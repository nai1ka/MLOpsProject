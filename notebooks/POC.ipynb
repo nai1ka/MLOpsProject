{
 "cells": [
  {
   "cell_type": "code",
   "outputs": [],
   "source": [
    "import pandas as pd\n",
    "\n",
    "df = pd.read_csv(\"../data/samples/sample.csv\")"
   ],
   "metadata": {
    "collapsed": false,
    "ExecuteTime": {
     "end_time": "2024-06-21T10:02:46.078514100Z",
     "start_time": "2024-06-21T10:02:42.867792300Z"
    }
   },
   "id": "94b397a92f1934d1",
   "execution_count": 1
  },
  {
   "cell_type": "code",
   "outputs": [
    {
     "name": "stdout",
     "output_type": "stream",
     "text": [
      "<class 'pandas.core.frame.DataFrame'>\n",
      "RangeIndex: 138614 entries, 0 to 138613\n",
      "Data columns (total 57 columns):\n",
      " #   Column                       Non-Null Count   Dtype  \n",
      "---  ------                       --------------   -----  \n",
      " 0   id                           138614 non-null  object \n",
      " 1   timestamp                    138614 non-null  float64\n",
      " 2   hour                         138614 non-null  int64  \n",
      " 3   day                          138614 non-null  int64  \n",
      " 4   month                        138614 non-null  int64  \n",
      " 5   datetime                     138614 non-null  object \n",
      " 6   timezone                     138614 non-null  object \n",
      " 7   source                       138614 non-null  object \n",
      " 8   destination                  138614 non-null  object \n",
      " 9   cab_type                     138614 non-null  object \n",
      " 10  product_id                   138614 non-null  object \n",
      " 11  name                         138614 non-null  object \n",
      " 12  price                        127622 non-null  float64\n",
      " 13  distance                     138614 non-null  float64\n",
      " 14  surge_multiplier             138614 non-null  float64\n",
      " 15  latitude                     138614 non-null  float64\n",
      " 16  longitude                    138614 non-null  float64\n",
      " 17  temperature                  138614 non-null  float64\n",
      " 18  apparentTemperature          138614 non-null  float64\n",
      " 19  short_summary                138614 non-null  object \n",
      " 20  long_summary                 138614 non-null  object \n",
      " 21  precipIntensity              138614 non-null  float64\n",
      " 22  precipProbability            138614 non-null  float64\n",
      " 23  humidity                     138614 non-null  float64\n",
      " 24  windSpeed                    138614 non-null  float64\n",
      " 25  windGust                     138614 non-null  float64\n",
      " 26  windGustTime                 138614 non-null  int64  \n",
      " 27  visibility                   138614 non-null  float64\n",
      " 28  temperatureHigh              138614 non-null  float64\n",
      " 29  temperatureHighTime          138614 non-null  int64  \n",
      " 30  temperatureLow               138614 non-null  float64\n",
      " 31  temperatureLowTime           138614 non-null  int64  \n",
      " 32  apparentTemperatureHigh      138614 non-null  float64\n",
      " 33  apparentTemperatureHighTime  138614 non-null  int64  \n",
      " 34  apparentTemperatureLow       138614 non-null  float64\n",
      " 35  apparentTemperatureLowTime   138614 non-null  int64  \n",
      " 36  icon                         138614 non-null  object \n",
      " 37  dewPoint                     138614 non-null  float64\n",
      " 38  pressure                     138614 non-null  float64\n",
      " 39  windBearing                  138614 non-null  int64  \n",
      " 40  cloudCover                   138614 non-null  float64\n",
      " 41  uvIndex                      138614 non-null  int64  \n",
      " 42  visibility.1                 138614 non-null  float64\n",
      " 43  ozone                        138614 non-null  float64\n",
      " 44  sunriseTime                  138614 non-null  int64  \n",
      " 45  sunsetTime                   138614 non-null  int64  \n",
      " 46  moonPhase                    138614 non-null  float64\n",
      " 47  precipIntensityMax           138614 non-null  float64\n",
      " 48  uvIndexTime                  138614 non-null  int64  \n",
      " 49  temperatureMin               138614 non-null  float64\n",
      " 50  temperatureMinTime           138614 non-null  int64  \n",
      " 51  temperatureMax               138614 non-null  float64\n",
      " 52  temperatureMaxTime           138614 non-null  int64  \n",
      " 53  apparentTemperatureMin       138614 non-null  float64\n",
      " 54  apparentTemperatureMinTime   138614 non-null  int64  \n",
      " 55  apparentTemperatureMax       138614 non-null  float64\n",
      " 56  apparentTemperatureMaxTime   138614 non-null  int64  \n",
      "dtypes: float64(29), int64(17), object(11)\n",
      "memory usage: 60.3+ MB\n",
      "None\n"
     ]
    }
   ],
   "source": [
    "print(df.info())"
   ],
   "metadata": {
    "collapsed": false,
    "ExecuteTime": {
     "end_time": "2024-06-21T10:02:46.178082100Z",
     "start_time": "2024-06-21T10:02:46.078514100Z"
    }
   },
   "id": "b4bf14c8fe02e57b",
   "execution_count": 2
  },
  {
   "cell_type": "code",
   "outputs": [
    {
     "name": "stdout",
     "output_type": "stream",
     "text": [
      "                                     id     timestamp  hour  day  month  \\\n",
      "0  424553bb-7174-41ea-aeb4-fe06d4f4b9d7  1.544953e+09     9   16     12   \n",
      "1  4bd23055-6827-41c6-b23b-3c491f24e74d  1.543284e+09     2   27     11   \n",
      "2  981a3613-77af-4620-a42a-0c0866077d1e  1.543367e+09     1   28     11   \n",
      "3  c2d88af2-d278-4bfd-a8d0-29ca77cc5512  1.543554e+09     4   30     11   \n",
      "4  e0126e1f-8ca9-4f2e-82b3-50505a09db9a  1.543463e+09     3   29     11   \n",
      "\n",
      "              datetime          timezone            source    destination  \\\n",
      "0  2018-12-16 09:30:07  America/New_York  Haymarket Square  North Station   \n",
      "1  2018-11-27 02:00:23  America/New_York  Haymarket Square  North Station   \n",
      "2  2018-11-28 01:00:22  America/New_York  Haymarket Square  North Station   \n",
      "3  2018-11-30 04:53:02  America/New_York  Haymarket Square  North Station   \n",
      "4  2018-11-29 03:49:20  America/New_York  Haymarket Square  North Station   \n",
      "\n",
      "  cab_type  ... precipIntensityMax uvIndexTime  temperatureMin  \\\n",
      "0     Lyft  ...             0.1276  1544979600           39.89   \n",
      "1     Lyft  ...             0.1300  1543251600           40.49   \n",
      "2     Lyft  ...             0.1064  1543338000           35.36   \n",
      "3     Lyft  ...             0.0000  1543507200           34.67   \n",
      "4     Lyft  ...             0.0001  1543420800           33.10   \n",
      "\n",
      "   temperatureMinTime  temperatureMax  temperatureMaxTime  \\\n",
      "0          1545012000           43.68          1544968800   \n",
      "1          1543233600           47.30          1543251600   \n",
      "2          1543377600           47.55          1543320000   \n",
      "3          1543550400           45.03          1543510800   \n",
      "4          1543402800           42.18          1543420800   \n",
      "\n",
      "   apparentTemperatureMin  apparentTemperatureMinTime  apparentTemperatureMax  \\\n",
      "0                   33.73                  1545012000                   38.07   \n",
      "1                   36.20                  1543291200                   43.92   \n",
      "2                   31.04                  1543377600                   44.12   \n",
      "3                   30.30                  1543550400                   38.53   \n",
      "4                   29.11                  1543392000                   35.75   \n",
      "\n",
      "  apparentTemperatureMaxTime  \n",
      "0                 1544958000  \n",
      "1                 1543251600  \n",
      "2                 1543320000  \n",
      "3                 1543510800  \n",
      "4                 1543420800  \n",
      "\n",
      "[5 rows x 57 columns]\n"
     ]
    }
   ],
   "source": [
    "print(df.head())"
   ],
   "metadata": {
    "collapsed": false,
    "ExecuteTime": {
     "end_time": "2024-06-21T10:02:46.238831900Z",
     "start_time": "2024-06-21T10:02:46.177082900Z"
    }
   },
   "id": "4f3b6bdb4d727869",
   "execution_count": 3
  },
  {
   "cell_type": "code",
   "outputs": [
    {
     "name": "stdout",
     "output_type": "stream",
     "text": [
      "id                                 0\n",
      "timestamp                          0\n",
      "hour                               0\n",
      "day                                0\n",
      "month                              0\n",
      "datetime                           0\n",
      "timezone                           0\n",
      "source                             0\n",
      "destination                        0\n",
      "cab_type                           0\n",
      "product_id                         0\n",
      "name                               0\n",
      "price                          10992\n",
      "distance                           0\n",
      "surge_multiplier                   0\n",
      "latitude                           0\n",
      "longitude                          0\n",
      "temperature                        0\n",
      "apparentTemperature                0\n",
      "short_summary                      0\n",
      "long_summary                       0\n",
      "precipIntensity                    0\n",
      "precipProbability                  0\n",
      "humidity                           0\n",
      "windSpeed                          0\n",
      "windGust                           0\n",
      "windGustTime                       0\n",
      "visibility                         0\n",
      "temperatureHigh                    0\n",
      "temperatureHighTime                0\n",
      "temperatureLow                     0\n",
      "temperatureLowTime                 0\n",
      "apparentTemperatureHigh            0\n",
      "apparentTemperatureHighTime        0\n",
      "apparentTemperatureLow             0\n",
      "apparentTemperatureLowTime         0\n",
      "icon                               0\n",
      "dewPoint                           0\n",
      "pressure                           0\n",
      "windBearing                        0\n",
      "cloudCover                         0\n",
      "uvIndex                            0\n",
      "visibility.1                       0\n",
      "ozone                              0\n",
      "sunriseTime                        0\n",
      "sunsetTime                         0\n",
      "moonPhase                          0\n",
      "precipIntensityMax                 0\n",
      "uvIndexTime                        0\n",
      "temperatureMin                     0\n",
      "temperatureMinTime                 0\n",
      "temperatureMax                     0\n",
      "temperatureMaxTime                 0\n",
      "apparentTemperatureMin             0\n",
      "apparentTemperatureMinTime         0\n",
      "apparentTemperatureMax             0\n",
      "apparentTemperatureMaxTime         0\n",
      "dtype: int64\n"
     ]
    }
   ],
   "source": [
    "missing_values = df.isnull().sum()\n",
    "print(missing_values)"
   ],
   "metadata": {
    "collapsed": false,
    "ExecuteTime": {
     "end_time": "2024-06-21T10:02:46.297447800Z",
     "start_time": "2024-06-21T10:02:46.206115100Z"
    }
   },
   "id": "19ca01e211418f0d",
   "execution_count": 4
  },
  {
   "cell_type": "code",
   "outputs": [],
   "source": [
    "df = df.dropna(subset=['price'])"
   ],
   "metadata": {
    "collapsed": false,
    "ExecuteTime": {
     "end_time": "2024-06-21T10:02:46.377224600Z",
     "start_time": "2024-06-21T10:02:46.288373200Z"
    }
   },
   "id": "b98f38a99cfab6de",
   "execution_count": 5
  },
  {
   "cell_type": "code",
   "outputs": [
    {
     "name": "stdout",
     "output_type": "stream",
     "text": [
      "id                             0\n",
      "timestamp                      0\n",
      "hour                           0\n",
      "day                            0\n",
      "month                          0\n",
      "datetime                       0\n",
      "timezone                       0\n",
      "source                         0\n",
      "destination                    0\n",
      "cab_type                       0\n",
      "product_id                     0\n",
      "name                           0\n",
      "price                          0\n",
      "distance                       0\n",
      "surge_multiplier               0\n",
      "latitude                       0\n",
      "longitude                      0\n",
      "temperature                    0\n",
      "apparentTemperature            0\n",
      "short_summary                  0\n",
      "long_summary                   0\n",
      "precipIntensity                0\n",
      "precipProbability              0\n",
      "humidity                       0\n",
      "windSpeed                      0\n",
      "windGust                       0\n",
      "windGustTime                   0\n",
      "visibility                     0\n",
      "temperatureHigh                0\n",
      "temperatureHighTime            0\n",
      "temperatureLow                 0\n",
      "temperatureLowTime             0\n",
      "apparentTemperatureHigh        0\n",
      "apparentTemperatureHighTime    0\n",
      "apparentTemperatureLow         0\n",
      "apparentTemperatureLowTime     0\n",
      "icon                           0\n",
      "dewPoint                       0\n",
      "pressure                       0\n",
      "windBearing                    0\n",
      "cloudCover                     0\n",
      "uvIndex                        0\n",
      "visibility.1                   0\n",
      "ozone                          0\n",
      "sunriseTime                    0\n",
      "sunsetTime                     0\n",
      "moonPhase                      0\n",
      "precipIntensityMax             0\n",
      "uvIndexTime                    0\n",
      "temperatureMin                 0\n",
      "temperatureMinTime             0\n",
      "temperatureMax                 0\n",
      "temperatureMaxTime             0\n",
      "apparentTemperatureMin         0\n",
      "apparentTemperatureMinTime     0\n",
      "apparentTemperatureMax         0\n",
      "apparentTemperatureMaxTime     0\n",
      "dtype: int64\n"
     ]
    }
   ],
   "source": [
    "missing_values = df.isnull().sum()\n",
    "print(missing_values)"
   ],
   "metadata": {
    "collapsed": false,
    "ExecuteTime": {
     "end_time": "2024-06-21T10:02:46.427200900Z",
     "start_time": "2024-06-21T10:02:46.358637200Z"
    }
   },
   "id": "d54a14947ce327d4",
   "execution_count": 6
  },
  {
   "cell_type": "code",
   "outputs": [
    {
     "data": {
      "text/plain": "           timestamp  hour  day  month             datetime  price  distance  \\\n0       1.544953e+09     9   16     12  2018-12-16 09:30:07    5.0      0.44   \n1       1.543284e+09     2   27     11  2018-11-27 02:00:23   11.0      0.44   \n2       1.543367e+09     1   28     11  2018-11-28 01:00:22    7.0      0.44   \n3       1.543554e+09     4   30     11  2018-11-30 04:53:02   26.0      0.44   \n4       1.543463e+09     3   29     11  2018-11-29 03:49:20    9.0      0.44   \n...              ...   ...  ...    ...                  ...    ...       ...   \n138609  1.543652e+09     8    1     12  2018-12-01 08:07:56   22.5      2.52   \n138610  1.543652e+09     8    1     12  2018-12-01 08:07:56   32.5      2.52   \n138611  1.543652e+09     8    1     12  2018-12-01 08:07:56    7.0      2.52   \n138612  1.543652e+09     8    1     12  2018-12-01 08:07:56   10.5      2.52   \n138613  1.544930e+09     3   16     12  2018-12-16 03:20:03   19.5      2.52   \n\n        surge_multiplier  latitude  longitude  ...  \\\n0                    1.0   42.2148   -71.0330  ...   \n1                    1.0   42.2148   -71.0330  ...   \n2                    1.0   42.2148   -71.0330  ...   \n3                    1.0   42.2148   -71.0330  ...   \n4                    1.0   42.2148   -71.0330  ...   \n...                  ...       ...        ...  ...   \n138609               1.0   42.2148   -71.0330  ...   \n138610               1.0   42.2148   -71.0330  ...   \n138611               1.0   42.2148   -71.0330  ...   \n138612               1.0   42.2148   -71.0330  ...   \n138613               1.0   42.3588   -71.0707  ...   \n\n        long_summary_ Light rain in the morning and overnight.   \\\n0                                                   False         \n1                                                   False         \n2                                                   False         \n3                                                   False         \n4                                                   False         \n...                                                   ...         \n138609                                               True         \n138610                                               True         \n138611                                               True         \n138612                                               True         \n138613                                              False         \n\n        long_summary_ Light rain in the morning.   \\\n0                                           False   \n1                                           False   \n2                                            True   \n3                                           False   \n4                                           False   \n...                                           ...   \n138609                                      False   \n138610                                      False   \n138611                                      False   \n138612                                      False   \n138613                                      False   \n\n        long_summary_ Light rain until evening.   \\\n0                                          False   \n1                                          False   \n2                                          False   \n3                                          False   \n4                                          False   \n...                                          ...   \n138609                                     False   \n138610                                     False   \n138611                                     False   \n138612                                     False   \n138613                                     False   \n\n        long_summary_ Mostly cloudy throughout the day.   \\\n0                                                  False   \n1                                                  False   \n2                                                  False   \n3                                                  False   \n4                                                   True   \n...                                                  ...   \n138609                                             False   \n138610                                             False   \n138611                                             False   \n138612                                             False   \n138613                                              True   \n\n        long_summary_ Overcast throughout the day.   \\\n0                                             False   \n1                                             False   \n2                                             False   \n3                                             False   \n4                                             False   \n...                                             ...   \n138609                                        False   \n138610                                        False   \n138611                                        False   \n138612                                        False   \n138613                                        False   \n\n        long_summary_ Partly cloudy throughout the day.   \\\n0                                                  False   \n1                                                  False   \n2                                                  False   \n3                                                   True   \n4                                                  False   \n...                                                  ...   \n138609                                             False   \n138610                                             False   \n138611                                             False   \n138612                                             False   \n138613                                             False   \n\n        long_summary_ Possible drizzle in the morning.   \\\n0                                                 False   \n1                                                 False   \n2                                                 False   \n3                                                 False   \n4                                                 False   \n...                                                 ...   \n138609                                            False   \n138610                                            False   \n138611                                            False   \n138612                                            False   \n138613                                            False   \n\n        long_summary_ Rain in the morning and afternoon.   \\\n0                                                   False   \n1                                                   False   \n2                                                   False   \n3                                                   False   \n4                                                   False   \n...                                                   ...   \n138609                                              False   \n138610                                              False   \n138611                                              False   \n138612                                              False   \n138613                                              False   \n\n        long_summary_ Rain throughout the day.   \\\n0                                          True   \n1                                         False   \n2                                         False   \n3                                         False   \n4                                         False   \n...                                         ...   \n138609                                    False   \n138610                                    False   \n138611                                    False   \n138612                                    False   \n138613                                    False   \n\n        long_summary_ Rain until morning, starting again in the evening.   \n0                                                   False                  \n1                                                    True                  \n2                                                   False                  \n3                                                   False                  \n4                                                   False                  \n...                                                   ...                  \n138609                                              False                  \n138610                                              False                  \n138611                                              False                  \n138612                                              False                  \n138613                                              False                  \n\n[127622 rows x 116 columns]",
      "text/html": "<div>\n<style scoped>\n    .dataframe tbody tr th:only-of-type {\n        vertical-align: middle;\n    }\n\n    .dataframe tbody tr th {\n        vertical-align: top;\n    }\n\n    .dataframe thead th {\n        text-align: right;\n    }\n</style>\n<table border=\"1\" class=\"dataframe\">\n  <thead>\n    <tr style=\"text-align: right;\">\n      <th></th>\n      <th>timestamp</th>\n      <th>hour</th>\n      <th>day</th>\n      <th>month</th>\n      <th>datetime</th>\n      <th>price</th>\n      <th>distance</th>\n      <th>surge_multiplier</th>\n      <th>latitude</th>\n      <th>longitude</th>\n      <th>...</th>\n      <th>long_summary_ Light rain in the morning and overnight.</th>\n      <th>long_summary_ Light rain in the morning.</th>\n      <th>long_summary_ Light rain until evening.</th>\n      <th>long_summary_ Mostly cloudy throughout the day.</th>\n      <th>long_summary_ Overcast throughout the day.</th>\n      <th>long_summary_ Partly cloudy throughout the day.</th>\n      <th>long_summary_ Possible drizzle in the morning.</th>\n      <th>long_summary_ Rain in the morning and afternoon.</th>\n      <th>long_summary_ Rain throughout the day.</th>\n      <th>long_summary_ Rain until morning, starting again in the evening.</th>\n    </tr>\n  </thead>\n  <tbody>\n    <tr>\n      <th>0</th>\n      <td>1.544953e+09</td>\n      <td>9</td>\n      <td>16</td>\n      <td>12</td>\n      <td>2018-12-16 09:30:07</td>\n      <td>5.0</td>\n      <td>0.44</td>\n      <td>1.0</td>\n      <td>42.2148</td>\n      <td>-71.0330</td>\n      <td>...</td>\n      <td>False</td>\n      <td>False</td>\n      <td>False</td>\n      <td>False</td>\n      <td>False</td>\n      <td>False</td>\n      <td>False</td>\n      <td>False</td>\n      <td>True</td>\n      <td>False</td>\n    </tr>\n    <tr>\n      <th>1</th>\n      <td>1.543284e+09</td>\n      <td>2</td>\n      <td>27</td>\n      <td>11</td>\n      <td>2018-11-27 02:00:23</td>\n      <td>11.0</td>\n      <td>0.44</td>\n      <td>1.0</td>\n      <td>42.2148</td>\n      <td>-71.0330</td>\n      <td>...</td>\n      <td>False</td>\n      <td>False</td>\n      <td>False</td>\n      <td>False</td>\n      <td>False</td>\n      <td>False</td>\n      <td>False</td>\n      <td>False</td>\n      <td>False</td>\n      <td>True</td>\n    </tr>\n    <tr>\n      <th>2</th>\n      <td>1.543367e+09</td>\n      <td>1</td>\n      <td>28</td>\n      <td>11</td>\n      <td>2018-11-28 01:00:22</td>\n      <td>7.0</td>\n      <td>0.44</td>\n      <td>1.0</td>\n      <td>42.2148</td>\n      <td>-71.0330</td>\n      <td>...</td>\n      <td>False</td>\n      <td>True</td>\n      <td>False</td>\n      <td>False</td>\n      <td>False</td>\n      <td>False</td>\n      <td>False</td>\n      <td>False</td>\n      <td>False</td>\n      <td>False</td>\n    </tr>\n    <tr>\n      <th>3</th>\n      <td>1.543554e+09</td>\n      <td>4</td>\n      <td>30</td>\n      <td>11</td>\n      <td>2018-11-30 04:53:02</td>\n      <td>26.0</td>\n      <td>0.44</td>\n      <td>1.0</td>\n      <td>42.2148</td>\n      <td>-71.0330</td>\n      <td>...</td>\n      <td>False</td>\n      <td>False</td>\n      <td>False</td>\n      <td>False</td>\n      <td>False</td>\n      <td>True</td>\n      <td>False</td>\n      <td>False</td>\n      <td>False</td>\n      <td>False</td>\n    </tr>\n    <tr>\n      <th>4</th>\n      <td>1.543463e+09</td>\n      <td>3</td>\n      <td>29</td>\n      <td>11</td>\n      <td>2018-11-29 03:49:20</td>\n      <td>9.0</td>\n      <td>0.44</td>\n      <td>1.0</td>\n      <td>42.2148</td>\n      <td>-71.0330</td>\n      <td>...</td>\n      <td>False</td>\n      <td>False</td>\n      <td>False</td>\n      <td>True</td>\n      <td>False</td>\n      <td>False</td>\n      <td>False</td>\n      <td>False</td>\n      <td>False</td>\n      <td>False</td>\n    </tr>\n    <tr>\n      <th>...</th>\n      <td>...</td>\n      <td>...</td>\n      <td>...</td>\n      <td>...</td>\n      <td>...</td>\n      <td>...</td>\n      <td>...</td>\n      <td>...</td>\n      <td>...</td>\n      <td>...</td>\n      <td>...</td>\n      <td>...</td>\n      <td>...</td>\n      <td>...</td>\n      <td>...</td>\n      <td>...</td>\n      <td>...</td>\n      <td>...</td>\n      <td>...</td>\n      <td>...</td>\n      <td>...</td>\n    </tr>\n    <tr>\n      <th>138609</th>\n      <td>1.543652e+09</td>\n      <td>8</td>\n      <td>1</td>\n      <td>12</td>\n      <td>2018-12-01 08:07:56</td>\n      <td>22.5</td>\n      <td>2.52</td>\n      <td>1.0</td>\n      <td>42.2148</td>\n      <td>-71.0330</td>\n      <td>...</td>\n      <td>True</td>\n      <td>False</td>\n      <td>False</td>\n      <td>False</td>\n      <td>False</td>\n      <td>False</td>\n      <td>False</td>\n      <td>False</td>\n      <td>False</td>\n      <td>False</td>\n    </tr>\n    <tr>\n      <th>138610</th>\n      <td>1.543652e+09</td>\n      <td>8</td>\n      <td>1</td>\n      <td>12</td>\n      <td>2018-12-01 08:07:56</td>\n      <td>32.5</td>\n      <td>2.52</td>\n      <td>1.0</td>\n      <td>42.2148</td>\n      <td>-71.0330</td>\n      <td>...</td>\n      <td>True</td>\n      <td>False</td>\n      <td>False</td>\n      <td>False</td>\n      <td>False</td>\n      <td>False</td>\n      <td>False</td>\n      <td>False</td>\n      <td>False</td>\n      <td>False</td>\n    </tr>\n    <tr>\n      <th>138611</th>\n      <td>1.543652e+09</td>\n      <td>8</td>\n      <td>1</td>\n      <td>12</td>\n      <td>2018-12-01 08:07:56</td>\n      <td>7.0</td>\n      <td>2.52</td>\n      <td>1.0</td>\n      <td>42.2148</td>\n      <td>-71.0330</td>\n      <td>...</td>\n      <td>True</td>\n      <td>False</td>\n      <td>False</td>\n      <td>False</td>\n      <td>False</td>\n      <td>False</td>\n      <td>False</td>\n      <td>False</td>\n      <td>False</td>\n      <td>False</td>\n    </tr>\n    <tr>\n      <th>138612</th>\n      <td>1.543652e+09</td>\n      <td>8</td>\n      <td>1</td>\n      <td>12</td>\n      <td>2018-12-01 08:07:56</td>\n      <td>10.5</td>\n      <td>2.52</td>\n      <td>1.0</td>\n      <td>42.2148</td>\n      <td>-71.0330</td>\n      <td>...</td>\n      <td>True</td>\n      <td>False</td>\n      <td>False</td>\n      <td>False</td>\n      <td>False</td>\n      <td>False</td>\n      <td>False</td>\n      <td>False</td>\n      <td>False</td>\n      <td>False</td>\n    </tr>\n    <tr>\n      <th>138613</th>\n      <td>1.544930e+09</td>\n      <td>3</td>\n      <td>16</td>\n      <td>12</td>\n      <td>2018-12-16 03:20:03</td>\n      <td>19.5</td>\n      <td>2.52</td>\n      <td>1.0</td>\n      <td>42.3588</td>\n      <td>-71.0707</td>\n      <td>...</td>\n      <td>False</td>\n      <td>False</td>\n      <td>False</td>\n      <td>True</td>\n      <td>False</td>\n      <td>False</td>\n      <td>False</td>\n      <td>False</td>\n      <td>False</td>\n      <td>False</td>\n    </tr>\n  </tbody>\n</table>\n<p>127622 rows × 116 columns</p>\n</div>"
     },
     "execution_count": 7,
     "metadata": {},
     "output_type": "execute_result"
    }
   ],
   "source": [
    "df = pd.get_dummies(df, columns=['timezone', 'icon', 'cab_type', 'name', 'source', 'destination', 'product_id', 'short_summary', 'long_summary'], drop_first=True)\n",
    "df = df.drop(columns=['id'])\n",
    "df"
   ],
   "metadata": {
    "collapsed": false,
    "ExecuteTime": {
     "end_time": "2024-06-21T10:02:46.737389600Z",
     "start_time": "2024-06-21T10:02:46.427200900Z"
    }
   },
   "id": "c5801c1fde51f44d",
   "execution_count": 7
  },
  {
   "cell_type": "code",
   "outputs": [],
   "source": [
    "features = df.drop(columns=['price', 'datetime'])\n",
    "target = df['price']"
   ],
   "metadata": {
    "collapsed": false,
    "ExecuteTime": {
     "end_time": "2024-06-21T10:02:46.764697200Z",
     "start_time": "2024-06-21T10:02:46.727067200Z"
    }
   },
   "id": "e4a926a99f5fa8ae",
   "execution_count": 8
  },
  {
   "cell_type": "code",
   "outputs": [],
   "source": [
    "from sklearn.model_selection import train_test_split\n",
    "\n",
    "X_train, X_test, y_train, y_test = train_test_split(features, target, test_size=0.2)\n"
   ],
   "metadata": {
    "collapsed": false,
    "ExecuteTime": {
     "end_time": "2024-06-21T10:02:48.355484800Z",
     "start_time": "2024-06-21T10:02:46.757218300Z"
    }
   },
   "id": "b7fc5164b3c0637a",
   "execution_count": 9
  },
  {
   "cell_type": "code",
   "outputs": [
    {
     "data": {
      "text/plain": "LinearRegression()",
      "text/html": "<style>#sk-container-id-1 {\n  /* Definition of color scheme common for light and dark mode */\n  --sklearn-color-text: black;\n  --sklearn-color-line: gray;\n  /* Definition of color scheme for unfitted estimators */\n  --sklearn-color-unfitted-level-0: #fff5e6;\n  --sklearn-color-unfitted-level-1: #f6e4d2;\n  --sklearn-color-unfitted-level-2: #ffe0b3;\n  --sklearn-color-unfitted-level-3: chocolate;\n  /* Definition of color scheme for fitted estimators */\n  --sklearn-color-fitted-level-0: #f0f8ff;\n  --sklearn-color-fitted-level-1: #d4ebff;\n  --sklearn-color-fitted-level-2: #b3dbfd;\n  --sklearn-color-fitted-level-3: cornflowerblue;\n\n  /* Specific color for light theme */\n  --sklearn-color-text-on-default-background: var(--sg-text-color, var(--theme-code-foreground, var(--jp-content-font-color1, black)));\n  --sklearn-color-background: var(--sg-background-color, var(--theme-background, var(--jp-layout-color0, white)));\n  --sklearn-color-border-box: var(--sg-text-color, var(--theme-code-foreground, var(--jp-content-font-color1, black)));\n  --sklearn-color-icon: #696969;\n\n  @media (prefers-color-scheme: dark) {\n    /* Redefinition of color scheme for dark theme */\n    --sklearn-color-text-on-default-background: var(--sg-text-color, var(--theme-code-foreground, var(--jp-content-font-color1, white)));\n    --sklearn-color-background: var(--sg-background-color, var(--theme-background, var(--jp-layout-color0, #111)));\n    --sklearn-color-border-box: var(--sg-text-color, var(--theme-code-foreground, var(--jp-content-font-color1, white)));\n    --sklearn-color-icon: #878787;\n  }\n}\n\n#sk-container-id-1 {\n  color: var(--sklearn-color-text);\n}\n\n#sk-container-id-1 pre {\n  padding: 0;\n}\n\n#sk-container-id-1 input.sk-hidden--visually {\n  border: 0;\n  clip: rect(1px 1px 1px 1px);\n  clip: rect(1px, 1px, 1px, 1px);\n  height: 1px;\n  margin: -1px;\n  overflow: hidden;\n  padding: 0;\n  position: absolute;\n  width: 1px;\n}\n\n#sk-container-id-1 div.sk-dashed-wrapped {\n  border: 1px dashed var(--sklearn-color-line);\n  margin: 0 0.4em 0.5em 0.4em;\n  box-sizing: border-box;\n  padding-bottom: 0.4em;\n  background-color: var(--sklearn-color-background);\n}\n\n#sk-container-id-1 div.sk-container {\n  /* jupyter's `normalize.less` sets `[hidden] { display: none; }`\n     but bootstrap.min.css set `[hidden] { display: none !important; }`\n     so we also need the `!important` here to be able to override the\n     default hidden behavior on the sphinx rendered scikit-learn.org.\n     See: https://github.com/scikit-learn/scikit-learn/issues/21755 */\n  display: inline-block !important;\n  position: relative;\n}\n\n#sk-container-id-1 div.sk-text-repr-fallback {\n  display: none;\n}\n\ndiv.sk-parallel-item,\ndiv.sk-serial,\ndiv.sk-item {\n  /* draw centered vertical line to link estimators */\n  background-image: linear-gradient(var(--sklearn-color-text-on-default-background), var(--sklearn-color-text-on-default-background));\n  background-size: 2px 100%;\n  background-repeat: no-repeat;\n  background-position: center center;\n}\n\n/* Parallel-specific style estimator block */\n\n#sk-container-id-1 div.sk-parallel-item::after {\n  content: \"\";\n  width: 100%;\n  border-bottom: 2px solid var(--sklearn-color-text-on-default-background);\n  flex-grow: 1;\n}\n\n#sk-container-id-1 div.sk-parallel {\n  display: flex;\n  align-items: stretch;\n  justify-content: center;\n  background-color: var(--sklearn-color-background);\n  position: relative;\n}\n\n#sk-container-id-1 div.sk-parallel-item {\n  display: flex;\n  flex-direction: column;\n}\n\n#sk-container-id-1 div.sk-parallel-item:first-child::after {\n  align-self: flex-end;\n  width: 50%;\n}\n\n#sk-container-id-1 div.sk-parallel-item:last-child::after {\n  align-self: flex-start;\n  width: 50%;\n}\n\n#sk-container-id-1 div.sk-parallel-item:only-child::after {\n  width: 0;\n}\n\n/* Serial-specific style estimator block */\n\n#sk-container-id-1 div.sk-serial {\n  display: flex;\n  flex-direction: column;\n  align-items: center;\n  background-color: var(--sklearn-color-background);\n  padding-right: 1em;\n  padding-left: 1em;\n}\n\n\n/* Toggleable style: style used for estimator/Pipeline/ColumnTransformer box that is\nclickable and can be expanded/collapsed.\n- Pipeline and ColumnTransformer use this feature and define the default style\n- Estimators will overwrite some part of the style using the `sk-estimator` class\n*/\n\n/* Pipeline and ColumnTransformer style (default) */\n\n#sk-container-id-1 div.sk-toggleable {\n  /* Default theme specific background. It is overwritten whether we have a\n  specific estimator or a Pipeline/ColumnTransformer */\n  background-color: var(--sklearn-color-background);\n}\n\n/* Toggleable label */\n#sk-container-id-1 label.sk-toggleable__label {\n  cursor: pointer;\n  display: block;\n  width: 100%;\n  margin-bottom: 0;\n  padding: 0.5em;\n  box-sizing: border-box;\n  text-align: center;\n}\n\n#sk-container-id-1 label.sk-toggleable__label-arrow:before {\n  /* Arrow on the left of the label */\n  content: \"▸\";\n  float: left;\n  margin-right: 0.25em;\n  color: var(--sklearn-color-icon);\n}\n\n#sk-container-id-1 label.sk-toggleable__label-arrow:hover:before {\n  color: var(--sklearn-color-text);\n}\n\n/* Toggleable content - dropdown */\n\n#sk-container-id-1 div.sk-toggleable__content {\n  max-height: 0;\n  max-width: 0;\n  overflow: hidden;\n  text-align: left;\n  /* unfitted */\n  background-color: var(--sklearn-color-unfitted-level-0);\n}\n\n#sk-container-id-1 div.sk-toggleable__content.fitted {\n  /* fitted */\n  background-color: var(--sklearn-color-fitted-level-0);\n}\n\n#sk-container-id-1 div.sk-toggleable__content pre {\n  margin: 0.2em;\n  border-radius: 0.25em;\n  color: var(--sklearn-color-text);\n  /* unfitted */\n  background-color: var(--sklearn-color-unfitted-level-0);\n}\n\n#sk-container-id-1 div.sk-toggleable__content.fitted pre {\n  /* unfitted */\n  background-color: var(--sklearn-color-fitted-level-0);\n}\n\n#sk-container-id-1 input.sk-toggleable__control:checked~div.sk-toggleable__content {\n  /* Expand drop-down */\n  max-height: 200px;\n  max-width: 100%;\n  overflow: auto;\n}\n\n#sk-container-id-1 input.sk-toggleable__control:checked~label.sk-toggleable__label-arrow:before {\n  content: \"▾\";\n}\n\n/* Pipeline/ColumnTransformer-specific style */\n\n#sk-container-id-1 div.sk-label input.sk-toggleable__control:checked~label.sk-toggleable__label {\n  color: var(--sklearn-color-text);\n  background-color: var(--sklearn-color-unfitted-level-2);\n}\n\n#sk-container-id-1 div.sk-label.fitted input.sk-toggleable__control:checked~label.sk-toggleable__label {\n  background-color: var(--sklearn-color-fitted-level-2);\n}\n\n/* Estimator-specific style */\n\n/* Colorize estimator box */\n#sk-container-id-1 div.sk-estimator input.sk-toggleable__control:checked~label.sk-toggleable__label {\n  /* unfitted */\n  background-color: var(--sklearn-color-unfitted-level-2);\n}\n\n#sk-container-id-1 div.sk-estimator.fitted input.sk-toggleable__control:checked~label.sk-toggleable__label {\n  /* fitted */\n  background-color: var(--sklearn-color-fitted-level-2);\n}\n\n#sk-container-id-1 div.sk-label label.sk-toggleable__label,\n#sk-container-id-1 div.sk-label label {\n  /* The background is the default theme color */\n  color: var(--sklearn-color-text-on-default-background);\n}\n\n/* On hover, darken the color of the background */\n#sk-container-id-1 div.sk-label:hover label.sk-toggleable__label {\n  color: var(--sklearn-color-text);\n  background-color: var(--sklearn-color-unfitted-level-2);\n}\n\n/* Label box, darken color on hover, fitted */\n#sk-container-id-1 div.sk-label.fitted:hover label.sk-toggleable__label.fitted {\n  color: var(--sklearn-color-text);\n  background-color: var(--sklearn-color-fitted-level-2);\n}\n\n/* Estimator label */\n\n#sk-container-id-1 div.sk-label label {\n  font-family: monospace;\n  font-weight: bold;\n  display: inline-block;\n  line-height: 1.2em;\n}\n\n#sk-container-id-1 div.sk-label-container {\n  text-align: center;\n}\n\n/* Estimator-specific */\n#sk-container-id-1 div.sk-estimator {\n  font-family: monospace;\n  border: 1px dotted var(--sklearn-color-border-box);\n  border-radius: 0.25em;\n  box-sizing: border-box;\n  margin-bottom: 0.5em;\n  /* unfitted */\n  background-color: var(--sklearn-color-unfitted-level-0);\n}\n\n#sk-container-id-1 div.sk-estimator.fitted {\n  /* fitted */\n  background-color: var(--sklearn-color-fitted-level-0);\n}\n\n/* on hover */\n#sk-container-id-1 div.sk-estimator:hover {\n  /* unfitted */\n  background-color: var(--sklearn-color-unfitted-level-2);\n}\n\n#sk-container-id-1 div.sk-estimator.fitted:hover {\n  /* fitted */\n  background-color: var(--sklearn-color-fitted-level-2);\n}\n\n/* Specification for estimator info (e.g. \"i\" and \"?\") */\n\n/* Common style for \"i\" and \"?\" */\n\n.sk-estimator-doc-link,\na:link.sk-estimator-doc-link,\na:visited.sk-estimator-doc-link {\n  float: right;\n  font-size: smaller;\n  line-height: 1em;\n  font-family: monospace;\n  background-color: var(--sklearn-color-background);\n  border-radius: 1em;\n  height: 1em;\n  width: 1em;\n  text-decoration: none !important;\n  margin-left: 1ex;\n  /* unfitted */\n  border: var(--sklearn-color-unfitted-level-1) 1pt solid;\n  color: var(--sklearn-color-unfitted-level-1);\n}\n\n.sk-estimator-doc-link.fitted,\na:link.sk-estimator-doc-link.fitted,\na:visited.sk-estimator-doc-link.fitted {\n  /* fitted */\n  border: var(--sklearn-color-fitted-level-1) 1pt solid;\n  color: var(--sklearn-color-fitted-level-1);\n}\n\n/* On hover */\ndiv.sk-estimator:hover .sk-estimator-doc-link:hover,\n.sk-estimator-doc-link:hover,\ndiv.sk-label-container:hover .sk-estimator-doc-link:hover,\n.sk-estimator-doc-link:hover {\n  /* unfitted */\n  background-color: var(--sklearn-color-unfitted-level-3);\n  color: var(--sklearn-color-background);\n  text-decoration: none;\n}\n\ndiv.sk-estimator.fitted:hover .sk-estimator-doc-link.fitted:hover,\n.sk-estimator-doc-link.fitted:hover,\ndiv.sk-label-container:hover .sk-estimator-doc-link.fitted:hover,\n.sk-estimator-doc-link.fitted:hover {\n  /* fitted */\n  background-color: var(--sklearn-color-fitted-level-3);\n  color: var(--sklearn-color-background);\n  text-decoration: none;\n}\n\n/* Span, style for the box shown on hovering the info icon */\n.sk-estimator-doc-link span {\n  display: none;\n  z-index: 9999;\n  position: relative;\n  font-weight: normal;\n  right: .2ex;\n  padding: .5ex;\n  margin: .5ex;\n  width: min-content;\n  min-width: 20ex;\n  max-width: 50ex;\n  color: var(--sklearn-color-text);\n  box-shadow: 2pt 2pt 4pt #999;\n  /* unfitted */\n  background: var(--sklearn-color-unfitted-level-0);\n  border: .5pt solid var(--sklearn-color-unfitted-level-3);\n}\n\n.sk-estimator-doc-link.fitted span {\n  /* fitted */\n  background: var(--sklearn-color-fitted-level-0);\n  border: var(--sklearn-color-fitted-level-3);\n}\n\n.sk-estimator-doc-link:hover span {\n  display: block;\n}\n\n/* \"?\"-specific style due to the `<a>` HTML tag */\n\n#sk-container-id-1 a.estimator_doc_link {\n  float: right;\n  font-size: 1rem;\n  line-height: 1em;\n  font-family: monospace;\n  background-color: var(--sklearn-color-background);\n  border-radius: 1rem;\n  height: 1rem;\n  width: 1rem;\n  text-decoration: none;\n  /* unfitted */\n  color: var(--sklearn-color-unfitted-level-1);\n  border: var(--sklearn-color-unfitted-level-1) 1pt solid;\n}\n\n#sk-container-id-1 a.estimator_doc_link.fitted {\n  /* fitted */\n  border: var(--sklearn-color-fitted-level-1) 1pt solid;\n  color: var(--sklearn-color-fitted-level-1);\n}\n\n/* On hover */\n#sk-container-id-1 a.estimator_doc_link:hover {\n  /* unfitted */\n  background-color: var(--sklearn-color-unfitted-level-3);\n  color: var(--sklearn-color-background);\n  text-decoration: none;\n}\n\n#sk-container-id-1 a.estimator_doc_link.fitted:hover {\n  /* fitted */\n  background-color: var(--sklearn-color-fitted-level-3);\n}\n</style><div id=\"sk-container-id-1\" class=\"sk-top-container\"><div class=\"sk-text-repr-fallback\"><pre>LinearRegression()</pre><b>In a Jupyter environment, please rerun this cell to show the HTML representation or trust the notebook. <br />On GitHub, the HTML representation is unable to render, please try loading this page with nbviewer.org.</b></div><div class=\"sk-container\" hidden><div class=\"sk-item\"><div class=\"sk-estimator fitted sk-toggleable\"><input class=\"sk-toggleable__control sk-hidden--visually\" id=\"sk-estimator-id-1\" type=\"checkbox\" checked><label for=\"sk-estimator-id-1\" class=\"sk-toggleable__label fitted sk-toggleable__label-arrow fitted\">&nbsp;&nbsp;LinearRegression<a class=\"sk-estimator-doc-link fitted\" rel=\"noreferrer\" target=\"_blank\" href=\"https://scikit-learn.org/1.5/modules/generated/sklearn.linear_model.LinearRegression.html\">?<span>Documentation for LinearRegression</span></a><span class=\"sk-estimator-doc-link fitted\">i<span>Fitted</span></span></label><div class=\"sk-toggleable__content fitted\"><pre>LinearRegression()</pre></div> </div></div></div></div>"
     },
     "execution_count": 10,
     "metadata": {},
     "output_type": "execute_result"
    }
   ],
   "source": [
    "from sklearn.linear_model import LinearRegression\n",
    "\n",
    "linear_model = LinearRegression()\n",
    "\n",
    "linear_model.fit(X_train, y_train)"
   ],
   "metadata": {
    "collapsed": false,
    "ExecuteTime": {
     "end_time": "2024-06-21T10:02:50.018213400Z",
     "start_time": "2024-06-21T10:02:48.353492600Z"
    }
   },
   "id": "14542f54b553408d",
   "execution_count": 10
  },
  {
   "cell_type": "code",
   "outputs": [
    {
     "name": "stdout",
     "output_type": "stream",
     "text": [
      "Mean Squared Error: 6.375890683864853\n",
      "R-squared Score: 0.928105077009988\n",
      "MAPE: 0.13339849055145084\n"
     ]
    }
   ],
   "source": [
    "from sklearn.metrics import mean_squared_error, r2_score, mean_absolute_percentage_error\n",
    "\n",
    "y_pred = linear_model.predict(X_test)\n",
    "\n",
    "mse = mean_squared_error(y_test, y_pred)\n",
    "print(f'Mean Squared Error: {mse}')\n",
    "\n",
    "r2 = r2_score(y_test, y_pred)\n",
    "print(f'R-squared Score: {r2}')\n",
    "\n",
    "mape = mean_absolute_percentage_error(y_test, y_pred)\n",
    "print(f'MAPE: {mape}')\n"
   ],
   "metadata": {
    "collapsed": false,
    "ExecuteTime": {
     "end_time": "2024-06-21T10:02:52.607379900Z",
     "start_time": "2024-06-21T10:02:52.544977200Z"
    }
   },
   "id": "58385dc8fc2433d7",
   "execution_count": 11
  },
  {
   "cell_type": "code",
   "outputs": [],
   "source": [],
   "metadata": {
    "collapsed": false
   },
   "id": "d875493e463b5f9f"
  }
 ],
 "metadata": {
  "kernelspec": {
   "display_name": "Python 3",
   "language": "python",
   "name": "python3"
  },
  "language_info": {
   "codemirror_mode": {
    "name": "ipython",
    "version": 2
   },
   "file_extension": ".py",
   "mimetype": "text/x-python",
   "name": "python",
   "nbconvert_exporter": "python",
   "pygments_lexer": "ipython2",
   "version": "2.7.6"
  }
 },
 "nbformat": 4,
 "nbformat_minor": 5
}
